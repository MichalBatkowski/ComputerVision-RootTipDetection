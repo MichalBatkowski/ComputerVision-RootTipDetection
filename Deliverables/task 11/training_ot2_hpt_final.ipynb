{
 "cells": [
  {
   "cell_type": "code",
   "execution_count": null,
   "metadata": {},
   "outputs": [
    {
     "name": "stdout",
     "output_type": "stream",
     "text": [
      "Create sweep with ID: ey4nm2wq\n",
      "Sweep URL: https://wandb.ai/reinforcement_learning_npac_team_8/sweep_for_weights/sweeps/ey4nm2wq\n"
     ]
    }
   ],
   "source": [
    "import gym\n",
    "from stable_baselines3 import PPO\n",
    "import os\n",
    "import wandb\n",
    "from stable_baselines3.common.callbacks import BaseCallback\n",
    "from ot2_wrapper_final import OT2Env\n",
    "from clearml import Task\n",
    "\n",
    "task = Task.init(project_name=\"Mentor Group E/Group DMRM\", task_name=\"ppo-hpt\")\n",
    "\n",
    "#copy these lines exactly as they are\n",
    "#setting the base docker image\n",
    "task.set_base_docker('deanis/2023y2b-rl:latest')\n",
    "#setting the task to run remotely on the default queue\n",
    "task.execute_remotely(queue_name=\"default\")\n",
    "\n",
    "# Define sweep config\n",
    "sweep_config = {\n",
    "    \"method\": \"bayes\",\n",
    "    \"name\": \"sweep\",\n",
    "    \"metric\": {\"goal\": \"minimize\", \"name\": \"rollout/ep_len_mean\"},\n",
    "    \"parameters\": {\n",
    "        \"learning_rate\": {\"distribution\": \"uniform\", \"min\": 0.3, \"max\": 0.8},\n",
    "        # \"n_steps\": {\"distribution\": \"int_uniform\", \"min\": 128, \"max\": 512},\n",
    "        # \"batch_size\": {\"distribution\": \"int_uniform\", \"min\": 32, \"max\": 256},\n",
    "        # \"gamma\": {\"distribution\": \"uniform\", \"min\": 0.9, \"max\": 0.999},\n",
    "    },\n",
    "}\n",
    "\n",
    "sweep_id = wandb.sweep(sweep_config, project=\"sweep_for_weights\")\n"
   ]
  },
  {
   "cell_type": "code",
   "execution_count": 6,
   "metadata": {},
   "outputs": [
    {
     "name": "stderr",
     "output_type": "stream",
     "text": [
      "\u001b[34m\u001b[1mwandb\u001b[0m: Agent Starting Run: egrx4hck with config:\n",
      "\u001b[34m\u001b[1mwandb\u001b[0m: \tlearning_rate: 0.43265405714922894\n"
     ]
    },
    {
     "data": {
      "text/html": [
       "Tracking run with wandb version 0.19.2"
      ],
      "text/plain": [
       "<IPython.core.display.HTML object>"
      ]
     },
     "metadata": {},
     "output_type": "display_data"
    },
    {
     "data": {
      "text/html": [
       "Run data is saved locally in <code>/Users/denisbespalko/GitHub/2024-25b-fai2-adsai-DenysBespalko231452/Y2B-2023-OT2_Twin-main/wandb/run-20250116_190005-egrx4hck</code>"
      ],
      "text/plain": [
       "<IPython.core.display.HTML object>"
      ]
     },
     "metadata": {},
     "output_type": "display_data"
    },
    {
     "data": {
      "text/html": [
       "Syncing run <strong><a href='https://wandb.ai/reinforcement_learning_npac_team_8/sweep_for_weights/runs/egrx4hck' target=\"_blank\">woven-sweep-1</a></strong> to <a href='https://wandb.ai/reinforcement_learning_npac_team_8/sweep_for_weights' target=\"_blank\">Weights & Biases</a> (<a href='https://wandb.me/developer-guide' target=\"_blank\">docs</a>)<br>Sweep page: <a href='https://wandb.ai/reinforcement_learning_npac_team_8/sweep_for_weights/sweeps/ey4nm2wq' target=\"_blank\">https://wandb.ai/reinforcement_learning_npac_team_8/sweep_for_weights/sweeps/ey4nm2wq</a>"
      ],
      "text/plain": [
       "<IPython.core.display.HTML object>"
      ]
     },
     "metadata": {},
     "output_type": "display_data"
    },
    {
     "data": {
      "text/html": [
       " View project at <a href='https://wandb.ai/reinforcement_learning_npac_team_8/sweep_for_weights' target=\"_blank\">https://wandb.ai/reinforcement_learning_npac_team_8/sweep_for_weights</a>"
      ],
      "text/plain": [
       "<IPython.core.display.HTML object>"
      ]
     },
     "metadata": {},
     "output_type": "display_data"
    },
    {
     "data": {
      "text/html": [
       " View sweep at <a href='https://wandb.ai/reinforcement_learning_npac_team_8/sweep_for_weights/sweeps/ey4nm2wq' target=\"_blank\">https://wandb.ai/reinforcement_learning_npac_team_8/sweep_for_weights/sweeps/ey4nm2wq</a>"
      ],
      "text/plain": [
       "<IPython.core.display.HTML object>"
      ]
     },
     "metadata": {},
     "output_type": "display_data"
    },
    {
     "data": {
      "text/html": [
       " View run at <a href='https://wandb.ai/reinforcement_learning_npac_team_8/sweep_for_weights/runs/egrx4hck' target=\"_blank\">https://wandb.ai/reinforcement_learning_npac_team_8/sweep_for_weights/runs/egrx4hck</a>"
      ],
      "text/plain": [
       "<IPython.core.display.HTML object>"
      ]
     },
     "metadata": {},
     "output_type": "display_data"
    },
    {
     "name": "stderr",
     "output_type": "stream",
     "text": [
      "/Users/denisbespalko/GitHub/2024-25b-fai2-adsai-DenysBespalko231452/.conda/lib/python3.9/site-packages/gymnasium/spaces/box.py:235: UserWarning: \u001b[33mWARN: Box low's precision lowered by casting to float32, current low.dtype=float64\u001b[0m\n",
      "  gym.logger.warn(\n",
      "/Users/denisbespalko/GitHub/2024-25b-fai2-adsai-DenysBespalko231452/.conda/lib/python3.9/site-packages/gymnasium/spaces/box.py:305: UserWarning: \u001b[33mWARN: Box high's precision lowered by casting to float32, current high.dtype=float64\u001b[0m\n",
      "  gym.logger.warn(\n"
     ]
    },
    {
     "name": "stdout",
     "output_type": "stream",
     "text": [
      "Using cpu device\n",
      "Wrapping the env with a `Monitor` wrapper\n",
      "Wrapping the env in a DummyVecEnv.\n",
      "Logging to ./logs_final_hpt/PPO_0\n"
     ]
    },
    {
     "name": "stderr",
     "output_type": "stream",
     "text": [
      "\u001b[34m\u001b[1mwandb\u001b[0m: Ctrl + C detected. Stopping sweep.\n"
     ]
    }
   ],
   "source": [
    "def main(config=None):\n",
    "    run = wandb.init(config, sync_tensorboard=True)\n",
    "\n",
    "    config = run.config\n",
    "\n",
    "    learning_rate = config.learning_rate \n",
    "    # n_steps = config.n_steps \n",
    "    # batch_size = config.batch_size\n",
    "    # gamma = config.gamma \n",
    "\n",
    "    env = OT2Env()\n",
    "    env.reset()\n",
    "\n",
    "    model = PPO(\"MlpPolicy\", env, learning_rate=learning_rate, verbose=1, tensorboard_log=\"./logs_final_hpt\")\n",
    "\n",
    "    model.learn(total_timesteps=2_000_000, reset_num_timesteps=False)\n",
    "\n",
    "    run.finish()\n",
    "\n",
    "wandb.agent(sweep_id, main)"
   ]
  },
  {
   "cell_type": "code",
   "execution_count": null,
   "metadata": {},
   "outputs": [],
   "source": []
  }
 ],
 "metadata": {
  "kernelspec": {
   "display_name": ".conda",
   "language": "python",
   "name": "python3"
  },
  "language_info": {
   "codemirror_mode": {
    "name": "ipython",
    "version": 3
   },
   "file_extension": ".py",
   "mimetype": "text/x-python",
   "name": "python",
   "nbconvert_exporter": "python",
   "pygments_lexer": "ipython3",
   "version": "3.9.21"
  }
 },
 "nbformat": 4,
 "nbformat_minor": 2
}
