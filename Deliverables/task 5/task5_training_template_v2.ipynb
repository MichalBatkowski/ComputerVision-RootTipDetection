{
 "cells": [
  {
   "cell_type": "code",
   "execution_count": 1,
   "metadata": {},
   "outputs": [],
   "source": [
    "# import things\n",
    "import cv2\n",
    "import os\n",
    "import numpy as np\n",
    "import pandas as pd\n",
    "import matplotlib.pyplot as plt\n",
    "from patchify import patchify, unpatchify\n",
    "import tensorflow as tf\n",
    "from tensorflow.keras import layers, models\n",
    "from tensorflow.keras.utils import to_categorical\n",
    "from tensorflow.keras.preprocessing.image import ImageDataGenerator\n",
    "import keras.backend as K"
   ]
  },
  {
   "cell_type": "code",
   "execution_count": 22,
   "metadata": {},
   "outputs": [],
   "source": [
    "# REQUIREMENT: Do not add code from Tasks 2 or 4\n",
    "# REQUIREMENT: All dataset prep (crop/pad/patch/directory structure) must be finalize before attempting this task.\n",
    "patch_size = 256\n",
    "patch_dir = r\"C:\\Users\\batkm\\Documents\\Github\\2024-25b-fai2-adsai-MichalBatkowski1232079\\Deliverables\\task 4\\combined_patched_dataset\"\n"
   ]
  },
  {
   "cell_type": "code",
   "execution_count": 23,
   "metadata": {},
   "outputs": [],
   "source": [
    "def f1(y_true, y_pred):\n",
    "    def recall_m(y_true, y_pred):\n",
    "        TP = K.sum(K.round(K.clip(y_true * y_pred, 0, 1)))\n",
    "        Positives = K.sum(K.round(K.clip(y_true, 0, 1)))\n",
    "        recall = TP / (Positives+K.epsilon())\n",
    "        return recall\n",
    "    \n",
    "    def precision_m(y_true, y_pred):\n",
    "        TP = K.sum(K.round(K.clip(y_true * y_pred, 0, 1)))\n",
    "        Pred_Positives = K.sum(K.round(K.clip(y_pred, 0, 1)))\n",
    "        precision = TP / (Pred_Positives+K.epsilon())\n",
    "        return precision\n",
    "    \n",
    "    precision, recall = precision_m(y_true, y_pred), recall_m(y_true, y_pred)\n",
    "    \n",
    "    return 2*((precision*recall)/(precision+recall+K.epsilon()))"
   ]
  },
  {
   "cell_type": "code",
   "execution_count": 24,
   "metadata": {},
   "outputs": [],
   "source": [
    "# Define U-Net\n",
    "def simple_unet_model(IMG_HEIGHT, IMG_WIDTH, IMG_CHANNELS):\n",
    "    inputs = tf.keras.layers.Input((IMG_HEIGHT, IMG_WIDTH, IMG_CHANNELS))\n",
    "    s = tf.keras.layers.Lambda(lambda x: x / 255)(inputs)\n",
    "\n",
    "    c1 = tf.keras.layers.Conv2D(16, (3, 3), activation='relu', kernel_initializer='he_normal', padding='same')(s)\n",
    "    c1 = tf.keras.layers.Dropout(0.1)(c1)\n",
    "    c1 = tf.keras.layers.Conv2D(16, (3, 3), activation='relu', kernel_initializer='he_normal', padding='same')(c1)\n",
    "    p1 = tf.keras.layers.MaxPooling2D((2, 2))(c1)\n",
    "\n",
    "    c2 = tf.keras.layers.Conv2D(32, (3, 3), activation='relu', kernel_initializer='he_normal', padding='same')(p1)\n",
    "    c2 = tf.keras.layers.Dropout(0.1)(c2)\n",
    "    c2 = tf.keras.layers.Conv2D(32, (3, 3), activation='relu', kernel_initializer='he_normal', padding='same')(c2)\n",
    "    p2 = tf.keras.layers.MaxPooling2D((2, 2))(c2)\n",
    "\n",
    "    c3 = tf.keras.layers.Conv2D(64, (3, 3), activation='relu', kernel_initializer='he_normal', padding='same')(p2)\n",
    "    c3 = tf.keras.layers.Dropout(0.2)(c3)\n",
    "    c3 = tf.keras.layers.Conv2D(64, (3, 3), activation='relu', kernel_initializer='he_normal', padding='same')(c3)\n",
    "    p3 = tf.keras.layers.MaxPooling2D((2, 2))(c3)\n",
    "\n",
    "    c4 = tf.keras.layers.Conv2D(128, (3, 3), activation='relu', kernel_initializer='he_normal', padding='same')(p3)\n",
    "    c4 = tf.keras.layers.Dropout(0.2)(c4)\n",
    "    c4 = tf.keras.layers.Conv2D(128, (3, 3), activation='relu', kernel_initializer='he_normal', padding='same')(c4)\n",
    "    p4 = tf.keras.layers.MaxPooling2D(pool_size=(2, 2))(c4)\n",
    "\n",
    "    c5 = tf.keras.layers.Conv2D(256, (3, 3), activation='relu', kernel_initializer='he_normal', padding='same')(p4)\n",
    "    c5 = tf.keras.layers.Dropout(0.3)(c5)\n",
    "    c5 = tf.keras.layers.Conv2D(256, (3, 3), activation='relu', kernel_initializer='he_normal', padding='same')(c5)\n",
    "    \n",
    "    u6 = tf.keras.layers.Conv2DTranspose(128, (2, 2), strides=(2, 2), padding='same')(c5)\n",
    "    u6 = tf.keras.layers.concatenate([u6, c4])\n",
    "    c6 = tf.keras.layers.Conv2D(128, (3, 3), activation='relu', kernel_initializer='he_normal', padding='same')(u6)\n",
    "    c6 = tf.keras.layers.Dropout(0.2)(c6)\n",
    "    c6 = tf.keras.layers.Conv2D(128, (3, 3), activation='relu', kernel_initializer='he_normal', padding='same')(c6)\n",
    "\n",
    "    u7 = tf.keras.layers.Conv2DTranspose(64, (2, 2), strides=(2, 2), padding='same')(c6)\n",
    "    u7 = tf.keras.layers.concatenate([u7, c3])\n",
    "    c7 = tf.keras.layers.Conv2D(64, (3, 3), activation='relu', kernel_initializer='he_normal', padding='same')(u7)\n",
    "    c7 = tf.keras.layers.Dropout(0.2)(c7)\n",
    "    c7 = tf.keras.layers.Conv2D(64, (3, 3), activation='relu', kernel_initializer='he_normal', padding='same')(c7)\n",
    "\n",
    "    u8 = tf.keras.layers.Conv2DTranspose(32, (2, 2), strides=(2, 2), padding='same')(c7)\n",
    "    u8 = tf.keras.layers.concatenate([u8, c2])\n",
    "    c8 = tf.keras.layers.Conv2D(32, (3, 3), activation='relu', kernel_initializer='he_normal', padding='same')(u8)\n",
    "    c8 = tf.keras.layers.Dropout(0.1)(c8)\n",
    "    c8 = tf.keras.layers.Conv2D(32, (3, 3), activation='relu', kernel_initializer='he_normal', padding='same')(c8)\n",
    "\n",
    "    u9 = tf.keras.layers.Conv2DTranspose(16, (2, 2), strides=(2, 2), padding='same')(c8)\n",
    "    u9 = tf.keras.layers.concatenate([u9, c1], axis=3)\n",
    "    c9 = tf.keras.layers.Conv2D(16, (3, 3), activation='relu', kernel_initializer='he_normal', padding='same')(u9)\n",
    "    c9 = tf.keras.layers.Dropout(0.1)(c9)\n",
    "    c9 = tf.keras.layers.Conv2D(16, (3, 3), activation='relu', kernel_initializer='he_normal', padding='same')(c9)\n",
    "\n",
    "    outputs = tf.keras.layers.Conv2D(1, (1, 1), activation='sigmoid')(c9)\n",
    "\n",
    "    model = tf.keras.Model(inputs=[inputs], outputs=[outputs])\n",
    "    model.compile(optimizer='adam', loss='binary_crossentropy', metrics=[f1])\n",
    "    model.summary()\n",
    "    \n",
    "    return model"
   ]
  },
  {
   "cell_type": "code",
   "execution_count": 25,
   "metadata": {},
   "outputs": [
    {
     "name": "stdout",
     "output_type": "stream",
     "text": [
      "Model: \"model_2\"\n",
      "__________________________________________________________________________________________________\n",
      " Layer (type)                   Output Shape         Param #     Connected to                     \n",
      "==================================================================================================\n",
      " input_3 (InputLayer)           [(None, 256, 256, 3  0           []                               \n",
      "                                )]                                                                \n",
      "                                                                                                  \n",
      " lambda_2 (Lambda)              (None, 256, 256, 3)  0           ['input_3[0][0]']                \n",
      "                                                                                                  \n",
      " conv2d_38 (Conv2D)             (None, 256, 256, 16  448         ['lambda_2[0][0]']               \n",
      "                                )                                                                 \n",
      "                                                                                                  \n",
      " dropout_18 (Dropout)           (None, 256, 256, 16  0           ['conv2d_38[0][0]']              \n",
      "                                )                                                                 \n",
      "                                                                                                  \n",
      " conv2d_39 (Conv2D)             (None, 256, 256, 16  2320        ['dropout_18[0][0]']             \n",
      "                                )                                                                 \n",
      "                                                                                                  \n",
      " max_pooling2d_8 (MaxPooling2D)  (None, 128, 128, 16  0          ['conv2d_39[0][0]']              \n",
      "                                )                                                                 \n",
      "                                                                                                  \n",
      " conv2d_40 (Conv2D)             (None, 128, 128, 32  4640        ['max_pooling2d_8[0][0]']        \n",
      "                                )                                                                 \n",
      "                                                                                                  \n",
      " dropout_19 (Dropout)           (None, 128, 128, 32  0           ['conv2d_40[0][0]']              \n",
      "                                )                                                                 \n",
      "                                                                                                  \n",
      " conv2d_41 (Conv2D)             (None, 128, 128, 32  9248        ['dropout_19[0][0]']             \n",
      "                                )                                                                 \n",
      "                                                                                                  \n",
      " max_pooling2d_9 (MaxPooling2D)  (None, 64, 64, 32)  0           ['conv2d_41[0][0]']              \n",
      "                                                                                                  \n",
      " conv2d_42 (Conv2D)             (None, 64, 64, 64)   18496       ['max_pooling2d_9[0][0]']        \n",
      "                                                                                                  \n",
      " dropout_20 (Dropout)           (None, 64, 64, 64)   0           ['conv2d_42[0][0]']              \n",
      "                                                                                                  \n",
      " conv2d_43 (Conv2D)             (None, 64, 64, 64)   36928       ['dropout_20[0][0]']             \n",
      "                                                                                                  \n",
      " max_pooling2d_10 (MaxPooling2D  (None, 32, 32, 64)  0           ['conv2d_43[0][0]']              \n",
      " )                                                                                                \n",
      "                                                                                                  \n",
      " conv2d_44 (Conv2D)             (None, 32, 32, 128)  73856       ['max_pooling2d_10[0][0]']       \n",
      "                                                                                                  \n",
      " dropout_21 (Dropout)           (None, 32, 32, 128)  0           ['conv2d_44[0][0]']              \n",
      "                                                                                                  \n",
      " conv2d_45 (Conv2D)             (None, 32, 32, 128)  147584      ['dropout_21[0][0]']             \n",
      "                                                                                                  \n",
      " max_pooling2d_11 (MaxPooling2D  (None, 16, 16, 128)  0          ['conv2d_45[0][0]']              \n",
      " )                                                                                                \n",
      "                                                                                                  \n",
      " conv2d_46 (Conv2D)             (None, 16, 16, 256)  295168      ['max_pooling2d_11[0][0]']       \n",
      "                                                                                                  \n",
      " dropout_22 (Dropout)           (None, 16, 16, 256)  0           ['conv2d_46[0][0]']              \n",
      "                                                                                                  \n",
      " conv2d_47 (Conv2D)             (None, 16, 16, 256)  590080      ['dropout_22[0][0]']             \n",
      "                                                                                                  \n",
      " conv2d_transpose_8 (Conv2DTran  (None, 32, 32, 128)  131200     ['conv2d_47[0][0]']              \n",
      " spose)                                                                                           \n",
      "                                                                                                  \n",
      " concatenate_8 (Concatenate)    (None, 32, 32, 256)  0           ['conv2d_transpose_8[0][0]',     \n",
      "                                                                  'conv2d_45[0][0]']              \n",
      "                                                                                                  \n",
      " conv2d_48 (Conv2D)             (None, 32, 32, 128)  295040      ['concatenate_8[0][0]']          \n",
      "                                                                                                  \n",
      " dropout_23 (Dropout)           (None, 32, 32, 128)  0           ['conv2d_48[0][0]']              \n",
      "                                                                                                  \n",
      " conv2d_49 (Conv2D)             (None, 32, 32, 128)  147584      ['dropout_23[0][0]']             \n",
      "                                                                                                  \n",
      " conv2d_transpose_9 (Conv2DTran  (None, 64, 64, 64)  32832       ['conv2d_49[0][0]']              \n",
      " spose)                                                                                           \n",
      "                                                                                                  \n",
      " concatenate_9 (Concatenate)    (None, 64, 64, 128)  0           ['conv2d_transpose_9[0][0]',     \n",
      "                                                                  'conv2d_43[0][0]']              \n",
      "                                                                                                  \n",
      " conv2d_50 (Conv2D)             (None, 64, 64, 64)   73792       ['concatenate_9[0][0]']          \n",
      "                                                                                                  \n",
      " dropout_24 (Dropout)           (None, 64, 64, 64)   0           ['conv2d_50[0][0]']              \n",
      "                                                                                                  \n",
      " conv2d_51 (Conv2D)             (None, 64, 64, 64)   36928       ['dropout_24[0][0]']             \n",
      "                                                                                                  \n",
      " conv2d_transpose_10 (Conv2DTra  (None, 128, 128, 32  8224       ['conv2d_51[0][0]']              \n",
      " nspose)                        )                                                                 \n",
      "                                                                                                  \n",
      " concatenate_10 (Concatenate)   (None, 128, 128, 64  0           ['conv2d_transpose_10[0][0]',    \n",
      "                                )                                 'conv2d_41[0][0]']              \n",
      "                                                                                                  \n",
      " conv2d_52 (Conv2D)             (None, 128, 128, 32  18464       ['concatenate_10[0][0]']         \n",
      "                                )                                                                 \n",
      "                                                                                                  \n",
      " dropout_25 (Dropout)           (None, 128, 128, 32  0           ['conv2d_52[0][0]']              \n",
      "                                )                                                                 \n",
      "                                                                                                  \n",
      " conv2d_53 (Conv2D)             (None, 128, 128, 32  9248        ['dropout_25[0][0]']             \n",
      "                                )                                                                 \n",
      "                                                                                                  \n",
      " conv2d_transpose_11 (Conv2DTra  (None, 256, 256, 16  2064       ['conv2d_53[0][0]']              \n",
      " nspose)                        )                                                                 \n",
      "                                                                                                  \n",
      " concatenate_11 (Concatenate)   (None, 256, 256, 32  0           ['conv2d_transpose_11[0][0]',    \n",
      "                                )                                 'conv2d_39[0][0]']              \n",
      "                                                                                                  \n",
      " conv2d_54 (Conv2D)             (None, 256, 256, 16  4624        ['concatenate_11[0][0]']         \n",
      "                                )                                                                 \n",
      "                                                                                                  \n",
      " dropout_26 (Dropout)           (None, 256, 256, 16  0           ['conv2d_54[0][0]']              \n",
      "                                )                                                                 \n",
      "                                                                                                  \n",
      " conv2d_55 (Conv2D)             (None, 256, 256, 16  2320        ['dropout_26[0][0]']             \n",
      "                                )                                                                 \n",
      "                                                                                                  \n",
      " conv2d_56 (Conv2D)             (None, 256, 256, 1)  17          ['conv2d_55[0][0]']              \n",
      "                                                                                                  \n",
      "==================================================================================================\n",
      "Total params: 1,941,105\n",
      "Trainable params: 1,941,105\n",
      "Non-trainable params: 0\n",
      "__________________________________________________________________________________________________\n"
     ]
    }
   ],
   "source": [
    "# Build U-Net\n",
    "# REQUIREMENT: Model summary must be visible\n",
    "model = simple_unet_model(patch_size, patch_size, 3)"
   ]
  },
  {
   "cell_type": "code",
   "execution_count": 26,
   "metadata": {},
   "outputs": [
    {
     "name": "stdout",
     "output_type": "stream",
     "text": [
      "Found 40713 images belonging to 1 classes.\n",
      "Found 40713 images belonging to 1 classes.\n"
     ]
    }
   ],
   "source": [
    "# Training images\n",
    "train_image_datagen = ImageDataGenerator(rescale=1./255)\n",
    "\n",
    "train_image_generator = train_image_datagen.flow_from_directory(\n",
    "    f'{patch_dir}/train_images',\n",
    "    target_size=(patch_size, patch_size),\n",
    "    batch_size=64,\n",
    "    class_mode=None,\n",
    "    color_mode='grayscale',\n",
    "    seed=42)\n",
    "\n",
    "# Training masks\n",
    "train_mask_datagen = ImageDataGenerator()\n",
    "\n",
    "train_mask_generator = train_mask_datagen.flow_from_directory(\n",
    "    f'{patch_dir}/train_masks',\n",
    "    target_size=(patch_size, patch_size),\n",
    "    batch_size=64,\n",
    "    class_mode=None,\n",
    "    color_mode='grayscale',\n",
    "    seed=42)\n",
    "\n",
    "train_generator = zip(train_image_generator, train_mask_generator)"
   ]
  },
  {
   "cell_type": "code",
   "execution_count": 27,
   "metadata": {},
   "outputs": [
    {
     "name": "stdout",
     "output_type": "stream",
     "text": [
      "Found 8292 images belonging to 1 classes.\n",
      "Found 8292 images belonging to 1 classes.\n"
     ]
    }
   ],
   "source": [
    "# val images\n",
    "val_image_datagen = ImageDataGenerator(rescale=1./255)\n",
    "\n",
    "val_image_generator = val_image_datagen.flow_from_directory(\n",
    "    f'{patch_dir}/val_images',\n",
    "    target_size=(patch_size, patch_size),\n",
    "    batch_size=64,\n",
    "    class_mode=None,\n",
    "    color_mode='grayscale',\n",
    "    seed=42\n",
    ")\n",
    "\n",
    "# Training masks\n",
    "val_mask_datagen = ImageDataGenerator()\n",
    "\n",
    "val_mask_generator = val_mask_datagen.flow_from_directory(\n",
    "    f'{patch_dir}/val_masks',\n",
    "    target_size=(patch_size, patch_size),\n",
    "    batch_size=64,\n",
    "    class_mode=None,\n",
    "    color_mode='grayscale',\n",
    "    seed=42\n",
    ")\n",
    "\n",
    "val_generator = zip(val_image_generator, val_mask_generator)"
   ]
  },
  {
   "cell_type": "code",
   "execution_count": 28,
   "metadata": {},
   "outputs": [],
   "source": [
    "# EarlyStopping()\n",
    "from keras.callbacks import EarlyStopping\n",
    "cb = EarlyStopping(monitor='val_loss', patience=3)"
   ]
  },
  {
   "cell_type": "code",
   "execution_count": 29,
   "metadata": {},
   "outputs": [
    {
     "name": "stdout",
     "output_type": "stream",
     "text": [
      "Epoch 1/30\n",
      "2545/2545 [==============================] - 594s 230ms/step - loss: 0.0321 - f1: 1.7015e-05 - val_loss: 0.0172 - val_f1: 0.0000e+00\n",
      "Epoch 2/30\n",
      "2545/2545 [==============================] - 270s 106ms/step - loss: 0.0091 - f1: 0.5633 - val_loss: 0.0064 - val_f1: 0.6596\n",
      "Epoch 3/30\n",
      "2545/2545 [==============================] - 267s 105ms/step - loss: 0.0060 - f1: 0.6839 - val_loss: 0.0054 - val_f1: 0.7116\n",
      "Epoch 4/30\n",
      "2545/2545 [==============================] - 268s 105ms/step - loss: 0.0055 - f1: 0.7055 - val_loss: 0.0053 - val_f1: 0.7088\n",
      "Epoch 5/30\n",
      "2545/2545 [==============================] - 268s 105ms/step - loss: 0.0053 - f1: 0.7190 - val_loss: 0.0049 - val_f1: 0.7377\n",
      "Epoch 6/30\n",
      "2545/2545 [==============================] - 273s 107ms/step - loss: 0.0050 - f1: 0.7327 - val_loss: 0.0049 - val_f1: 0.7303\n",
      "Epoch 7/30\n",
      "2545/2545 [==============================] - 273s 107ms/step - loss: 0.0048 - f1: 0.7318 - val_loss: 0.0050 - val_f1: 0.7210\n",
      "Epoch 8/30\n",
      "2545/2545 [==============================] - 269s 106ms/step - loss: 0.0047 - f1: 0.7320 - val_loss: 0.0047 - val_f1: 0.7459\n",
      "Epoch 9/30\n",
      "2545/2545 [==============================] - 269s 106ms/step - loss: 0.0046 - f1: 0.7439 - val_loss: 0.0049 - val_f1: 0.7184\n",
      "Epoch 10/30\n",
      "2545/2545 [==============================] - 270s 106ms/step - loss: 0.0045 - f1: 0.7454 - val_loss: 0.0045 - val_f1: 0.7405\n",
      "Epoch 11/30\n",
      "2545/2545 [==============================] - 271s 107ms/step - loss: 0.0045 - f1: 0.7533 - val_loss: 0.0061 - val_f1: 0.6968\n",
      "Epoch 12/30\n",
      "2545/2545 [==============================] - 269s 106ms/step - loss: 0.0044 - f1: 0.7518 - val_loss: 0.0045 - val_f1: 0.7327\n",
      "Epoch 13/30\n",
      "2545/2545 [==============================] - 273s 107ms/step - loss: 0.0043 - f1: 0.7574 - val_loss: 0.0043 - val_f1: 0.7645\n",
      "Epoch 14/30\n",
      "2545/2545 [==============================] - 290s 114ms/step - loss: 0.0044 - f1: 0.7529 - val_loss: 0.0044 - val_f1: 0.7662\n",
      "Epoch 15/30\n",
      "2545/2545 [==============================] - 275s 108ms/step - loss: 0.0043 - f1: 0.7582 - val_loss: 0.0044 - val_f1: 0.7687\n",
      "Epoch 16/30\n",
      "2545/2545 [==============================] - 277s 109ms/step - loss: 0.0042 - f1: 0.7629 - val_loss: 0.0044 - val_f1: 0.7613\n"
     ]
    }
   ],
   "source": [
    "# This is where the magic happens\n",
    "# REQUIREMENT: The epoch logs must be visible showing validation loss and validation f1.\n",
    "history = model.fit(\n",
    "    train_generator,\n",
    "    steps_per_epoch=len(train_image_generator),\n",
    "    epochs=30,\n",
    "    validation_data = val_generator,\n",
    "    validation_steps = len(val_image_generator),\n",
    "    callbacks=[cb]\n",
    ")\n",
    " "
   ]
  },
  {
   "cell_type": "code",
   "execution_count": 30,
   "metadata": {},
   "outputs": [
    {
     "name": "stdout",
     "output_type": "stream",
     "text": [
      "michal_232079_unet_model_v2_256px.h5\n"
     ]
    }
   ],
   "source": [
    "# REQUIREMENT: Save your model, it is a deliverable\n",
    "# REQUIREMENT: naming convention 'studentname_studentnumber_unet_model_patchsizepx.h5'\n",
    "example_file_name = f'michal_232079_unet_model_v2_{patch_size}px.h5'\n",
    "print(example_file_name)\n",
    "model.save(example_file_name)"
   ]
  },
  {
   "cell_type": "code",
   "execution_count": 32,
   "metadata": {},
   "outputs": [
    {
     "name": "stdout",
     "output_type": "stream",
     "text": [
      "Best validation loss: 0.004342761822044849\n",
      "Best validation f1: 0.7687250375747681\n"
     ]
    }
   ],
   "source": [
    "# REQUIREMENT: Run and display the output of this cell.\n",
    "# REQUIREMENT: Do not change the code.\n",
    "best_val_loss = min(history.history['val_loss'])\n",
    "best_val_f1 = max(history.history['val_f1'])\n",
    "print(f\"Best validation loss: {best_val_loss}\")\n",
    "print(f\"Best validation f1: {best_val_f1}\")"
   ]
  },
  {
   "cell_type": "code",
   "execution_count": 33,
   "metadata": {},
   "outputs": [
    {
     "data": {
      "image/png": "[encoded data removed]",
      "text/plain": [
       "<Figure size 640x480 with 1 Axes>"
      ]
     },
     "metadata": {},
     "output_type": "display_data"
    }
   ],
   "source": [
    "# REQUIREMENT: Run and display the output of this cell.\n",
    "# REQUIREMENT: Do not change the code.\n",
    "loss = history.history['loss']\n",
    "val_loss = history.history['val_loss']\n",
    "\n",
    "epochs = np.arange(1, len(loss) + 1)\n",
    "\n",
    "plt.plot(epochs, loss, label='train_loss')\n",
    "plt.plot(epochs, val_loss, label='val_loss')\n",
    "plt.legend()\n",
    "plt.xlabel('Epoch')\n",
    "plt.ylabel('Loss (binary_crossentropy)')\n",
    "_ = plt.xticks(np.arange(1, len(loss) + 1, 3))"
   ]
  },
  {
   "cell_type": "code",
   "execution_count": 34,
   "metadata": {},
   "outputs": [
    {
     "data": {
      "image/png": "[encoded data removed]",
      "text/plain": [
       "<Figure size 640x480 with 1 Axes>"
      ]
     },
     "metadata": {},
     "output_type": "display_data"
    }
   ],
   "source": [
    "# REQUIREMENT: Run and display the output of this cell.\n",
    "# REQUIREMENT: Do not change the code.\n",
    "train_f1 = history.history['f1']\n",
    "val_f1 = history.history['val_f1']\n",
    "\n",
    "epochs = np.arange(1, len(train_f1) + 1)\n",
    "\n",
    "plt.plot(epochs, train_f1, label='train_f1')\n",
    "plt.plot(epochs, val_f1, label='val_f1')\n",
    "plt.legend()\n",
    "plt.xlabel('Epoch')\n",
    "plt.ylabel('F1')\n",
    "_ = plt.xticks(np.arange(1, len(loss) + 1, 3))"
   ]
  }
 ],
 "metadata": {
  "kernelspec": {
   "display_name": "y2_block_b",
   "language": "python",
   "name": "python3"
  },
  "language_info": {
   "codemirror_mode": {
    "name": "ipython",
    "version": 3
   },
   "file_extension": ".py",
   "mimetype": "text/x-python",
   "name": "python",
   "nbconvert_exporter": "python",
   "pygments_lexer": "ipython3",
   "version": "3.9.20"
  }
 },
 "nbformat": 4,
 "nbformat_minor": 2
}
