{
 "cells": [
  {
   "cell_type": "code",
   "execution_count": 25,
   "metadata": {},
   "outputs": [],
   "source": [
    "# import things\n",
    "import cv2\n",
    "import os\n",
    "import numpy as np\n",
    "import pandas as pd\n",
    "import matplotlib.pyplot as plt\n",
    "from patchify import patchify, unpatchify\n",
    "import tensorflow as tf\n",
    "from tensorflow.keras import layers, models\n",
    "from tensorflow.keras.utils import to_categorical\n",
    "from tensorflow.keras.preprocessing.image import ImageDataGenerator\n",
    "import keras.backend as K"
   ]
  },
  {
   "cell_type": "code",
   "execution_count": 26,
   "metadata": {},
   "outputs": [],
   "source": [
    "# REQUIREMENT: Do not add code from Tasks 2 or 4\n",
    "# REQUIREMENT: All dataset prep (crop/pad/patch/directory structure) must be finalize before attempting this task.\n",
    "patch_size = 256\n",
    "patch_dir = 'patched_dataset'"
   ]
  },
  {
   "cell_type": "code",
   "execution_count": 27,
   "metadata": {},
   "outputs": [],
   "source": [
    "def f1(y_true, y_pred):\n",
    "    def recall_m(y_true, y_pred):\n",
    "        TP = K.sum(K.round(K.clip(y_true * y_pred, 0, 1)))\n",
    "        Positives = K.sum(K.round(K.clip(y_true, 0, 1)))\n",
    "        recall = TP / (Positives+K.epsilon())\n",
    "        return recall\n",
    "    \n",
    "    def precision_m(y_true, y_pred):\n",
    "        TP = K.sum(K.round(K.clip(y_true * y_pred, 0, 1)))\n",
    "        Pred_Positives = K.sum(K.round(K.clip(y_pred, 0, 1)))\n",
    "        precision = TP / (Pred_Positives+K.epsilon())\n",
    "        return precision\n",
    "    \n",
    "    precision, recall = precision_m(y_true, y_pred), recall_m(y_true, y_pred)\n",
    "    \n",
    "    return 2*((precision*recall)/(precision+recall+K.epsilon()))"
   ]
  },
  {
   "cell_type": "code",
   "execution_count": 28,
   "metadata": {},
   "outputs": [],
   "source": [
    "# Define U-Net\n",
    "def simple_unet_model(IMG_HEIGHT, IMG_WIDTH, IMG_CHANNELS):\n",
    "    inputs = tf.keras.layers.Input((IMG_HEIGHT, IMG_WIDTH, IMG_CHANNELS))\n",
    "    s = tf.keras.layers.Lambda(lambda x: x / 255)(inputs)\n",
    "\n",
    "    c1 = tf.keras.layers.Conv2D(16, (3, 3), activation='relu', kernel_initializer='he_normal', padding='same')(s)\n",
    "    c1 = tf.keras.layers.Dropout(0.1)(c1)\n",
    "    c1 = tf.keras.layers.Conv2D(16, (3, 3), activation='relu', kernel_initializer='he_normal', padding='same')(c1)\n",
    "    p1 = tf.keras.layers.MaxPooling2D((2, 2))(c1)\n",
    "\n",
    "    c2 = tf.keras.layers.Conv2D(32, (3, 3), activation='relu', kernel_initializer='he_normal', padding='same')(p1)\n",
    "    c2 = tf.keras.layers.Dropout(0.1)(c2)\n",
    "    c2 = tf.keras.layers.Conv2D(32, (3, 3), activation='relu', kernel_initializer='he_normal', padding='same')(c2)\n",
    "    p2 = tf.keras.layers.MaxPooling2D((2, 2))(c2)\n",
    "\n",
    "    c3 = tf.keras.layers.Conv2D(64, (3, 3), activation='relu', kernel_initializer='he_normal', padding='same')(p2)\n",
    "    c3 = tf.keras.layers.Dropout(0.2)(c3)\n",
    "    c3 = tf.keras.layers.Conv2D(64, (3, 3), activation='relu', kernel_initializer='he_normal', padding='same')(c3)\n",
    "    p3 = tf.keras.layers.MaxPooling2D((2, 2))(c3)\n",
    "\n",
    "    c4 = tf.keras.layers.Conv2D(128, (3, 3), activation='relu', kernel_initializer='he_normal', padding='same')(p3)\n",
    "    c4 = tf.keras.layers.Dropout(0.2)(c4)\n",
    "    c4 = tf.keras.layers.Conv2D(128, (3, 3), activation='relu', kernel_initializer='he_normal', padding='same')(c4)\n",
    "    p4 = tf.keras.layers.MaxPooling2D(pool_size=(2, 2))(c4)\n",
    "\n",
    "    c5 = tf.keras.layers.Conv2D(256, (3, 3), activation='relu', kernel_initializer='he_normal', padding='same')(p4)\n",
    "    c5 = tf.keras.layers.Dropout(0.3)(c5)\n",
    "    c5 = tf.keras.layers.Conv2D(256, (3, 3), activation='relu', kernel_initializer='he_normal', padding='same')(c5)\n",
    "    \n",
    "    u6 = tf.keras.layers.Conv2DTranspose(128, (2, 2), strides=(2, 2), padding='same')(c5)\n",
    "    u6 = tf.keras.layers.concatenate([u6, c4])\n",
    "    c6 = tf.keras.layers.Conv2D(128, (3, 3), activation='relu', kernel_initializer='he_normal', padding='same')(u6)\n",
    "    c6 = tf.keras.layers.Dropout(0.2)(c6)\n",
    "    c6 = tf.keras.layers.Conv2D(128, (3, 3), activation='relu', kernel_initializer='he_normal', padding='same')(c6)\n",
    "\n",
    "    u7 = tf.keras.layers.Conv2DTranspose(64, (2, 2), strides=(2, 2), padding='same')(c6)\n",
    "    u7 = tf.keras.layers.concatenate([u7, c3])\n",
    "    c7 = tf.keras.layers.Conv2D(64, (3, 3), activation='relu', kernel_initializer='he_normal', padding='same')(u7)\n",
    "    c7 = tf.keras.layers.Dropout(0.2)(c7)\n",
    "    c7 = tf.keras.layers.Conv2D(64, (3, 3), activation='relu', kernel_initializer='he_normal', padding='same')(c7)\n",
    "\n",
    "    u8 = tf.keras.layers.Conv2DTranspose(32, (2, 2), strides=(2, 2), padding='same')(c7)\n",
    "    u8 = tf.keras.layers.concatenate([u8, c2])\n",
    "    c8 = tf.keras.layers.Conv2D(32, (3, 3), activation='relu', kernel_initializer='he_normal', padding='same')(u8)\n",
    "    c8 = tf.keras.layers.Dropout(0.1)(c8)\n",
    "    c8 = tf.keras.layers.Conv2D(32, (3, 3), activation='relu', kernel_initializer='he_normal', padding='same')(c8)\n",
    "\n",
    "    u9 = tf.keras.layers.Conv2DTranspose(16, (2, 2), strides=(2, 2), padding='same')(c8)\n",
    "    u9 = tf.keras.layers.concatenate([u9, c1], axis=3)\n",
    "    c9 = tf.keras.layers.Conv2D(16, (3, 3), activation='relu', kernel_initializer='he_normal', padding='same')(u9)\n",
    "    c9 = tf.keras.layers.Dropout(0.1)(c9)\n",
    "    c9 = tf.keras.layers.Conv2D(16, (3, 3), activation='relu', kernel_initializer='he_normal', padding='same')(c9)\n",
    "\n",
    "    outputs = tf.keras.layers.Conv2D(1, (1, 1), activation='sigmoid')(c9)\n",
    "\n",
    "    model = tf.keras.Model(inputs=[inputs], outputs=[outputs])\n",
    "    model.compile(optimizer='adam', loss='binary_crossentropy', metrics=[f1])\n",
    "    model.summary()\n",
    "    \n",
    "    return model"
   ]
  },
  {
   "cell_type": "code",
   "execution_count": 29,
   "metadata": {},
   "outputs": [
    {
     "name": "stdout",
     "output_type": "stream",
     "text": [
      "Model: \"model_1\"\n",
      "__________________________________________________________________________________________________\n",
      " Layer (type)                   Output Shape         Param #     Connected to                     \n",
      "==================================================================================================\n",
      " input_2 (InputLayer)           [(None, 256, 256, 3  0           []                               \n",
      "                                )]                                                                \n",
      "                                                                                                  \n",
      " lambda_1 (Lambda)              (None, 256, 256, 3)  0           ['input_2[0][0]']                \n",
      "                                                                                                  \n",
      " conv2d_19 (Conv2D)             (None, 256, 256, 16  448         ['lambda_1[0][0]']               \n",
      "                                )                                                                 \n",
      "                                                                                                  \n",
      " dropout_9 (Dropout)            (None, 256, 256, 16  0           ['conv2d_19[0][0]']              \n",
      "                                )                                                                 \n",
      "                                                                                                  \n",
      " conv2d_20 (Conv2D)             (None, 256, 256, 16  2320        ['dropout_9[0][0]']              \n",
      "                                )                                                                 \n",
      "                                                                                                  \n",
      " max_pooling2d_4 (MaxPooling2D)  (None, 128, 128, 16  0          ['conv2d_20[0][0]']              \n",
      "                                )                                                                 \n",
      "                                                                                                  \n",
      " conv2d_21 (Conv2D)             (None, 128, 128, 32  4640        ['max_pooling2d_4[0][0]']        \n",
      "                                )                                                                 \n",
      "                                                                                                  \n",
      " dropout_10 (Dropout)           (None, 128, 128, 32  0           ['conv2d_21[0][0]']              \n",
      "                                )                                                                 \n",
      "                                                                                                  \n",
      " conv2d_22 (Conv2D)             (None, 128, 128, 32  9248        ['dropout_10[0][0]']             \n",
      "                                )                                                                 \n",
      "                                                                                                  \n",
      " max_pooling2d_5 (MaxPooling2D)  (None, 64, 64, 32)  0           ['conv2d_22[0][0]']              \n",
      "                                                                                                  \n",
      " conv2d_23 (Conv2D)             (None, 64, 64, 64)   18496       ['max_pooling2d_5[0][0]']        \n",
      "                                                                                                  \n",
      " dropout_11 (Dropout)           (None, 64, 64, 64)   0           ['conv2d_23[0][0]']              \n",
      "                                                                                                  \n",
      " conv2d_24 (Conv2D)             (None, 64, 64, 64)   36928       ['dropout_11[0][0]']             \n",
      "                                                                                                  \n",
      " max_pooling2d_6 (MaxPooling2D)  (None, 32, 32, 64)  0           ['conv2d_24[0][0]']              \n",
      "                                                                                                  \n",
      " conv2d_25 (Conv2D)             (None, 32, 32, 128)  73856       ['max_pooling2d_6[0][0]']        \n",
      "                                                                                                  \n",
      " dropout_12 (Dropout)           (None, 32, 32, 128)  0           ['conv2d_25[0][0]']              \n",
      "                                                                                                  \n",
      " conv2d_26 (Conv2D)             (None, 32, 32, 128)  147584      ['dropout_12[0][0]']             \n",
      "                                                                                                  \n",
      " max_pooling2d_7 (MaxPooling2D)  (None, 16, 16, 128)  0          ['conv2d_26[0][0]']              \n",
      "                                                                                                  \n",
      " conv2d_27 (Conv2D)             (None, 16, 16, 256)  295168      ['max_pooling2d_7[0][0]']        \n",
      "                                                                                                  \n",
      " dropout_13 (Dropout)           (None, 16, 16, 256)  0           ['conv2d_27[0][0]']              \n",
      "                                                                                                  \n",
      " conv2d_28 (Conv2D)             (None, 16, 16, 256)  590080      ['dropout_13[0][0]']             \n",
      "                                                                                                  \n",
      " conv2d_transpose_4 (Conv2DTran  (None, 32, 32, 128)  131200     ['conv2d_28[0][0]']              \n",
      " spose)                                                                                           \n",
      "                                                                                                  \n",
      " concatenate_4 (Concatenate)    (None, 32, 32, 256)  0           ['conv2d_transpose_4[0][0]',     \n",
      "                                                                  'conv2d_26[0][0]']              \n",
      "                                                                                                  \n",
      " conv2d_29 (Conv2D)             (None, 32, 32, 128)  295040      ['concatenate_4[0][0]']          \n",
      "                                                                                                  \n",
      " dropout_14 (Dropout)           (None, 32, 32, 128)  0           ['conv2d_29[0][0]']              \n",
      "                                                                                                  \n",
      " conv2d_30 (Conv2D)             (None, 32, 32, 128)  147584      ['dropout_14[0][0]']             \n",
      "                                                                                                  \n",
      " conv2d_transpose_5 (Conv2DTran  (None, 64, 64, 64)  32832       ['conv2d_30[0][0]']              \n",
      " spose)                                                                                           \n",
      "                                                                                                  \n",
      " concatenate_5 (Concatenate)    (None, 64, 64, 128)  0           ['conv2d_transpose_5[0][0]',     \n",
      "                                                                  'conv2d_24[0][0]']              \n",
      "                                                                                                  \n",
      " conv2d_31 (Conv2D)             (None, 64, 64, 64)   73792       ['concatenate_5[0][0]']          \n",
      "                                                                                                  \n",
      " dropout_15 (Dropout)           (None, 64, 64, 64)   0           ['conv2d_31[0][0]']              \n",
      "                                                                                                  \n",
      " conv2d_32 (Conv2D)             (None, 64, 64, 64)   36928       ['dropout_15[0][0]']             \n",
      "                                                                                                  \n",
      " conv2d_transpose_6 (Conv2DTran  (None, 128, 128, 32  8224       ['conv2d_32[0][0]']              \n",
      " spose)                         )                                                                 \n",
      "                                                                                                  \n",
      " concatenate_6 (Concatenate)    (None, 128, 128, 64  0           ['conv2d_transpose_6[0][0]',     \n",
      "                                )                                 'conv2d_22[0][0]']              \n",
      "                                                                                                  \n",
      " conv2d_33 (Conv2D)             (None, 128, 128, 32  18464       ['concatenate_6[0][0]']          \n",
      "                                )                                                                 \n",
      "                                                                                                  \n",
      " dropout_16 (Dropout)           (None, 128, 128, 32  0           ['conv2d_33[0][0]']              \n",
      "                                )                                                                 \n",
      "                                                                                                  \n",
      " conv2d_34 (Conv2D)             (None, 128, 128, 32  9248        ['dropout_16[0][0]']             \n",
      "                                )                                                                 \n",
      "                                                                                                  \n",
      " conv2d_transpose_7 (Conv2DTran  (None, 256, 256, 16  2064       ['conv2d_34[0][0]']              \n",
      " spose)                         )                                                                 \n",
      "                                                                                                  \n",
      " concatenate_7 (Concatenate)    (None, 256, 256, 32  0           ['conv2d_transpose_7[0][0]',     \n",
      "                                )                                 'conv2d_20[0][0]']              \n",
      "                                                                                                  \n",
      " conv2d_35 (Conv2D)             (None, 256, 256, 16  4624        ['concatenate_7[0][0]']          \n",
      "                                )                                                                 \n",
      "                                                                                                  \n",
      " dropout_17 (Dropout)           (None, 256, 256, 16  0           ['conv2d_35[0][0]']              \n",
      "                                )                                                                 \n",
      "                                                                                                  \n",
      " conv2d_36 (Conv2D)             (None, 256, 256, 16  2320        ['dropout_17[0][0]']             \n",
      "                                )                                                                 \n",
      "                                                                                                  \n",
      " conv2d_37 (Conv2D)             (None, 256, 256, 1)  17          ['conv2d_36[0][0]']              \n",
      "                                                                                                  \n",
      "==================================================================================================\n",
      "Total params: 1,941,105\n",
      "Trainable params: 1,941,105\n",
      "Non-trainable params: 0\n",
      "__________________________________________________________________________________________________\n"
     ]
    }
   ],
   "source": [
    "# Build U-Net\n",
    "# REQUIREMENT: Model summary must be visible\n",
    "model = simple_unet_model(patch_size, patch_size, 3)"
   ]
  },
  {
   "cell_type": "code",
   "execution_count": 30,
   "metadata": {},
   "outputs": [
    {
     "name": "stdout",
     "output_type": "stream",
     "text": [
      "Found 8769 images belonging to 1 classes.\n",
      "Found 8769 images belonging to 1 classes.\n"
     ]
    }
   ],
   "source": [
    "# Training images\n",
    "train_image_datagen = ImageDataGenerator(rescale=1./255)\n",
    "\n",
    "train_image_generator = train_image_datagen.flow_from_directory(\n",
    "    f'{patch_dir}/train_images',\n",
    "    target_size=(patch_size, patch_size),\n",
    "    batch_size=16,\n",
    "    class_mode=None,\n",
    "    color_mode='rgb',\n",
    "    seed=42)\n",
    "\n",
    "# Training masks\n",
    "train_mask_datagen = ImageDataGenerator()\n",
    "\n",
    "train_mask_generator = train_mask_datagen.flow_from_directory(\n",
    "    f'{patch_dir}/train_masks',\n",
    "    target_size=(patch_size, patch_size),\n",
    "    batch_size=16,\n",
    "    class_mode=None,\n",
    "    color_mode='grayscale',\n",
    "    seed=42)\n",
    "\n",
    "train_generator = zip(train_image_generator, train_mask_generator)"
   ]
  },
  {
   "cell_type": "code",
   "execution_count": 31,
   "metadata": {},
   "outputs": [
    {
     "name": "stdout",
     "output_type": "stream",
     "text": [
      "Found 2242 images belonging to 1 classes.\n",
      "Found 2242 images belonging to 1 classes.\n"
     ]
    }
   ],
   "source": [
    "# val images\n",
    "val_image_datagen = ImageDataGenerator(rescale=1./255)\n",
    "\n",
    "val_image_generator = val_image_datagen.flow_from_directory(\n",
    "    f'{patch_dir}/val_images',\n",
    "    target_size=(patch_size, patch_size),\n",
    "    batch_size=16,\n",
    "    class_mode=None,\n",
    "    color_mode='rgb',\n",
    "    seed=42\n",
    ")\n",
    "\n",
    "# Training masks\n",
    "val_mask_datagen = ImageDataGenerator()\n",
    "\n",
    "val_mask_generator = val_mask_datagen.flow_from_directory(\n",
    "    f'{patch_dir}/val_masks',\n",
    "    target_size=(patch_size, patch_size),\n",
    "    batch_size=16,\n",
    "    class_mode=None,\n",
    "    color_mode='grayscale',\n",
    "    seed=42\n",
    ")\n",
    "\n",
    "val_generator = zip(val_image_generator, val_mask_generator)"
   ]
  },
  {
   "cell_type": "code",
   "execution_count": 32,
   "metadata": {},
   "outputs": [],
   "source": [
    "# EarlyStopping()\n",
    "from keras.callbacks import EarlyStopping\n",
    "cb = EarlyStopping(monitor='val_loss', patience=3)"
   ]
  },
  {
   "cell_type": "code",
   "execution_count": 33,
   "metadata": {},
   "outputs": [
    {
     "name": "stdout",
     "output_type": "stream",
     "text": [
      "Epoch 1/30\n",
      "549/549 [==============================] - 106s 177ms/step - loss: 0.0523 - f1: 3.2070e-05 - val_loss: 0.0292 - val_f1: 0.0000e+00\n",
      "Epoch 2/30\n",
      "549/549 [==============================] - 63s 115ms/step - loss: 0.0221 - f1: 0.2662 - val_loss: 0.0199 - val_f1: 0.2338\n",
      "Epoch 3/30\n",
      "549/549 [==============================] - 62s 114ms/step - loss: 0.0116 - f1: 0.6463 - val_loss: 0.0093 - val_f1: 0.7284\n",
      "Epoch 4/30\n",
      "549/549 [==============================] - 62s 112ms/step - loss: 0.0099 - f1: 0.7018 - val_loss: 0.0162 - val_f1: 0.6126\n",
      "Epoch 5/30\n",
      "549/549 [==============================] - 62s 112ms/step - loss: 0.0092 - f1: 0.7214 - val_loss: 0.0088 - val_f1: 0.7301\n",
      "Epoch 6/30\n",
      "549/549 [==============================] - 62s 113ms/step - loss: 0.0084 - f1: 0.7412 - val_loss: 0.0093 - val_f1: 0.7136\n",
      "Epoch 7/30\n",
      "549/549 [==============================] - 62s 113ms/step - loss: 0.0078 - f1: 0.7537 - val_loss: 0.0088 - val_f1: 0.7131\n",
      "Epoch 8/30\n",
      "549/549 [==============================] - 62s 113ms/step - loss: 0.0081 - f1: 0.7444 - val_loss: 0.0084 - val_f1: 0.7611\n",
      "Epoch 9/30\n",
      "549/549 [==============================] - 62s 112ms/step - loss: 0.0080 - f1: 0.7571 - val_loss: 0.0084 - val_f1: 0.7564\n",
      "Epoch 10/30\n",
      "549/549 [==============================] - 62s 112ms/step - loss: 0.0076 - f1: 0.7643 - val_loss: 0.0085 - val_f1: 0.7344\n",
      "Epoch 11/30\n",
      "549/549 [==============================] - 84s 153ms/step - loss: 0.0075 - f1: 0.7697 - val_loss: 0.0085 - val_f1: 0.7580\n",
      "Epoch 12/30\n",
      "549/549 [==============================] - 94s 171ms/step - loss: 0.0077 - f1: 0.7671 - val_loss: 0.0076 - val_f1: 0.7544\n",
      "Epoch 13/30\n",
      "549/549 [==============================] - 95s 173ms/step - loss: 0.0069 - f1: 0.7731 - val_loss: 0.0073 - val_f1: 0.7688\n",
      "Epoch 14/30\n",
      "549/549 [==============================] - 104s 189ms/step - loss: 0.0071 - f1: 0.7688 - val_loss: 0.0097 - val_f1: 0.7384\n",
      "Epoch 15/30\n",
      "549/549 [==============================] - 103s 188ms/step - loss: 0.0069 - f1: 0.7799 - val_loss: 0.0103 - val_f1: 0.7510\n",
      "Epoch 16/30\n",
      "549/549 [==============================] - 101s 184ms/step - loss: 0.0069 - f1: 0.7751 - val_loss: 0.1172 - val_f1: 0.0055\n"
     ]
    }
   ],
   "source": [
    "# This is where the magic happens\n",
    "# REQUIREMENT: The epoch logs must be visible showing validation loss and validation f1.\n",
    "history = model.fit(\n",
    "    train_generator,\n",
    "    steps_per_epoch=len(train_image_generator),\n",
    "    epochs=30,\n",
    "    validation_data = val_generator,\n",
    "    validation_steps = val_image_generator.samples//16,\n",
    "    callbacks=[cb]\n",
    ")\n",
    " "
   ]
  },
  {
   "cell_type": "code",
   "execution_count": 51,
   "metadata": {},
   "outputs": [
    {
     "name": "stdout",
     "output_type": "stream",
     "text": [
      "michal_232079_unet_model_256px.h5\n"
     ]
    }
   ],
   "source": [
    "# REQUIREMENT: Save your model, it is a deliverable\n",
    "# REQUIREMENT: naming convention 'studentname_studentnumber_unet_model_patchsizepx.h5'\n",
    "example_file_name = f'michal_232079_unet_model_{patch_size}px.h5'\n",
    "print(example_file_name)\n",
    "model.save(example_file_name)"
   ]
  },
  {
   "cell_type": "code",
   "execution_count": 40,
   "metadata": {},
   "outputs": [
    {
     "name": "stdout",
     "output_type": "stream",
     "text": [
      "Best validation loss: 0.007333185989409685\n",
      "Best validation f1: 0.7688186168670654\n"
     ]
    }
   ],
   "source": [
    "# REQUIREMENT: Run and display the output of this cell.\n",
    "# REQUIREMENT: Do not change the code.\n",
    "best_val_loss = min(history.history['val_loss'])\n",
    "best_val_f1 = max(history.history['val_f1'])\n",
    "print(f\"Best validation loss: {best_val_loss}\")\n",
    "print(f\"Best validation f1: {best_val_f1}\")"
   ]
  },
  {
   "cell_type": "code",
   "execution_count": 46,
   "metadata": {},
   "outputs": [
    {
     "data": {
      "image/png": "[encoded data removed]",
      "text/plain": [
       "<Figure size 640x480 with 1 Axes>"
      ]
     },
     "metadata": {},
     "output_type": "display_data"
    }
   ],
   "source": [
    "# REQUIREMENT: Run and display the output of this cell.\n",
    "# REQUIREMENT: Do not change the code.\n",
    "loss = history.history['loss']\n",
    "val_loss = history.history['val_loss']\n",
    "\n",
    "epochs = np.arange(1, len(loss) + 1)\n",
    "\n",
    "plt.plot(epochs, loss, label='train_loss')\n",
    "plt.plot(epochs, val_loss, label='val_loss')\n",
    "plt.legend()\n",
    "plt.xlabel('Epoch')\n",
    "plt.ylabel('Loss (binary_crossentropy)')\n",
    "_ = plt.xticks(np.arange(1, len(loss) + 1, 3))"
   ]
  },
  {
   "cell_type": "code",
   "execution_count": 50,
   "metadata": {},
   "outputs": [
    {
     "data": {
      "image/png": "[encoded data removed]",
      "text/plain": [
       "<Figure size 640x480 with 1 Axes>"
      ]
     },
     "metadata": {},
     "output_type": "display_data"
    }
   ],
   "source": [
    "# REQUIREMENT: Run and display the output of this cell.\n",
    "# REQUIREMENT: Do not change the code.\n",
    "train_f1 = history.history['f1']\n",
    "val_f1 = history.history['val_f1']\n",
    "\n",
    "epochs = np.arange(1, len(train_f1) + 1)\n",
    "\n",
    "plt.plot(epochs, train_f1, label='train_f1')\n",
    "plt.plot(epochs, val_f1, label='val_f1')\n",
    "plt.legend()\n",
    "plt.xlabel('Epoch')\n",
    "plt.ylabel('F1')\n",
    "_ = plt.xticks(np.arange(1, len(loss) + 1, 3))"
   ]
  }
 ],
 "metadata": {
  "kernelspec": {
   "display_name": "y2_block_b",
   "language": "python",
   "name": "python3"
  },
  "language_info": {
   "codemirror_mode": {
    "name": "ipython",
    "version": 3
   },
   "file_extension": ".py",
   "mimetype": "text/x-python",
   "name": "python",
   "nbconvert_exporter": "python",
   "pygments_lexer": "ipython3",
   "version": "3.9.20"
  }
 },
 "nbformat": 4,
 "nbformat_minor": 2
}
